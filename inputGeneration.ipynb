{
 "cells": [
  {
   "cell_type": "markdown",
   "metadata": {},
   "source": [
    "# Tools to help generate data for algorithm testing"
   ]
  },
  {
   "cell_type": "markdown",
   "metadata": {},
   "source": [
    "### Generate linked list"
   ]
  },
  {
   "cell_type": "code",
   "execution_count": 5,
   "metadata": {},
   "outputs": [
    {
     "name": "stdout",
     "output_type": "stream",
     "text": [
      "1\n",
      "2\n"
     ]
    }
   ],
   "source": [
    "class ListNode:\n",
    "    def __init__(self, val, sublist=None):\n",
    "        assert sublist is None or isinstance(sublist, ListNode)\n",
    "        self.val = val\n",
    "        self.next = sublist\n",
    "    \n",
    "def list_to_link(lst):\n",
    "    \"\"\"Takes a Python list and returns a Link with the same elements.\"\"\"\n",
    "    if len(lst) == 1:\n",
    "        return ListNode(lst[0])\n",
    "    return ListNode(lst[0], list_to_link(lst[1:]))\n",
    "    \n",
    "lst = [1, 2, 3, 4, 5]\n",
    "LL = list_to_link(lst)\n",
    "print(LL.val)\n",
    "print(LL.next.val)"
   ]
  },
  {
   "cell_type": "markdown",
   "metadata": {},
   "source": [
    "### Generate binary tree"
   ]
  },
  {
   "cell_type": "code",
   "execution_count": 19,
   "metadata": {},
   "outputs": [
    {
     "name": "stdout",
     "output_type": "stream",
     "text": [
      "<3, <1, <1, None, None>, <2, None, None>>, <2, <3, None, None>, <4, None, None>>>\n",
      "<3, None, <2, None, None>>\n",
      "<3, <2, <1, None, None>, None>, None>\n"
     ]
    }
   ],
   "source": [
    "class Node(object):\n",
    "    def __init__(self, val=0, left=None, right=None):\n",
    "        self.val= val\n",
    "        self.left = left\n",
    "        self.right = right\n",
    "    def __str__(self):\n",
    "        return f'<{self.val}, {self.left}, {self.right}>'  # Py 3.6\n",
    "\n",
    "from collections import deque\n",
    "def listToBinTree(data):    \n",
    "    n = iter(data)\n",
    "    tree = Node(next(n))\n",
    "    fringe = deque([tree])\n",
    "    while True:\n",
    "        head = fringe.popleft()\n",
    "        try:\n",
    "            if (left:=next(n)) is not None:\n",
    "                head.left = Node(left)\n",
    "                fringe.append(head.left)\n",
    "            if (right:=next(n)) is not None:\n",
    "                head.right = Node(right)\n",
    "                fringe.append(head.right)\n",
    "        except StopIteration:\n",
    "            break\n",
    "    return tree\n",
    "\n",
    "\n",
    "data = [3, 1, 2, 1, 2, 3, 4]\n",
    "tree = listToBinTree(data)\n",
    "print(tree)\n",
    "\n",
    "data1 = [3,None,2]\n",
    "data2 = [3,2,None,1]\n",
    "tree1 = listToBinTree(data1)\n",
    "tree2 = listToBinTree(data2)\n",
    "print(tree1)\n",
    "print(tree2)"
   ]
  },
  {
   "cell_type": "code",
   "execution_count": null,
   "metadata": {},
   "outputs": [],
   "source": []
  }
 ],
 "metadata": {
  "kernelspec": {
   "display_name": "Python 3",
   "language": "python",
   "name": "python3"
  },
  "language_info": {
   "codemirror_mode": {
    "name": "ipython",
    "version": 3
   },
   "file_extension": ".py",
   "mimetype": "text/x-python",
   "name": "python",
   "nbconvert_exporter": "python",
   "pygments_lexer": "ipython3",
   "version": "3.8.2"
  }
 },
 "nbformat": 4,
 "nbformat_minor": 4
}
